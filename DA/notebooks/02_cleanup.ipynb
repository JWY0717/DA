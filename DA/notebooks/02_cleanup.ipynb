{
 "cells": [
  {
   "cell_type": "code",
   "execution_count": 24,
   "metadata": {},
   "outputs": [],
   "source": [
    "import numpy as np\n",
    "import pandas as pd\n",
    "from sklearn.model_selection import train_test_split\n",
    "from sklearn.preprocessing import MinMaxScaler\n",
    "from tensorflow.keras.models import Sequential\n",
    "from tensorflow.keras.layers import LSTM, Dense\n",
    "from torch import nn, optim"
   ]
  },
  {
   "cell_type": "code",
   "execution_count": 25,
   "metadata": {},
   "outputs": [
    {
     "name": "stdout",
     "output_type": "stream",
     "text": [
      "        mmsi ship_name  ship_type   \n",
      "0  440051540      D-01          0  \\\n",
      "\n",
      "                                                geom    cog  sog   \n",
      "0  0101000020110F00000000002039676B41000000002DCF...  329.2  5.7  \\\n",
      "\n",
      "        insert_time  지방청           표지                일시   풍향   유향    기온    수온   \n",
      "0  2023-05-11 10:10  부산청  신항유도등부표(랜비)  2023-05-11 10:10  196  246  16.4  17.0  \\\n",
      "\n",
      "     풍속   유속    기압  습도  \n",
      "0  9.77  0.3  1017  82  \n"
     ]
    }
   ],
   "source": [
    "data = 'D:\\장우영\\LOCALSEARCH\\DA\\DA\\data\\FAmerge_20230518_124958.csv'\n",
    "\n",
    "merge_data = pd.read_csv(data, encoding='ANSI')\n",
    "#print(weather_data)\n",
    "print(merge_data.head(1))"
   ]
  },
  {
   "cell_type": "code",
   "execution_count": 28,
   "metadata": {},
   "outputs": [
    {
     "name": "stdout",
     "output_type": "stream",
     "text": [
      "            mmsi      ship_name  ship_type    cog   sog                일시   \n",
      "0      440051540           D-01          0  329.2   5.7  2023-05-11 10:10  \\\n",
      "1      440300780            NaN          0  329.8   0.0  2023-05-11 10:10   \n",
      "2      440208550            NaN          0  139.3   0.0  2023-05-11 10:10   \n",
      "3      440275000  GBK EXPRESS 1         40  175.8   0.0  2023-05-11 10:10   \n",
      "4      440414850   NO1 GEO SUNG         80    0.0   0.0  2023-05-11 10:10   \n",
      "...          ...            ...        ...    ...   ...               ...   \n",
      "16180  538010219  SAWASDEE VEGA         70  225.2  16.0  2023-05-11 10:20   \n",
      "16181  440121850            NaN          0    0.0   0.0  2023-05-11 10:30   \n",
      "16182  440110850  PILOT ORYUKDO         50  322.3   1.7  2023-05-11 10:30   \n",
      "16183  440107840   NO.7 GEUMHWA         30    0.0   0.0  2023-05-11 10:30   \n",
      "16184  440134620       HYUNJUNG         80  231.3   0.7  2023-05-11 10:30   \n",
      "\n",
      "        풍향    기온    수온     풍속   유속    기압  습도  \n",
      "0      196  16.4  17.0   9.77  0.3  1017  82  \n",
      "1      196  16.4  17.0   9.77  0.3  1017  82  \n",
      "2      196  16.4  17.0   9.77  0.3  1017  82  \n",
      "3      196  16.4  17.0   9.77  0.3  1017  82  \n",
      "4      196  16.4  17.0   9.77  0.3  1017  82  \n",
      "...    ...   ...   ...    ...  ...   ...  ..  \n",
      "16180  209  16.2  16.7  11.30  0.2  1017  82  \n",
      "16181  210  16.3  16.7  10.30  0.2  1017  83  \n",
      "16182  210  16.3  16.7  10.30  0.2  1017  83  \n",
      "16183  210  16.3  16.7  10.30  0.2  1017  83  \n",
      "16184  210  16.3  16.7  10.30  0.2  1017  83  \n",
      "\n",
      "[16185 rows x 13 columns]\n",
      "0        0101000020110F00000000002039676B41000000002DCF...\n",
      "1        0101000020110F0000000000C0D2666B410000008079E5...\n",
      "2        0101000020110F00000000002062656B4100000080F0DD...\n",
      "3        0101000020110F000000000040A1666B41000000800AE4...\n",
      "4        0101000020110F00000000004097666B410000008067E5...\n",
      "                               ...                        \n",
      "16180    0101000020110F0000000000C0DC636B41000000009893...\n",
      "16181    0101000020110F00000000002040656B410000008050DC...\n",
      "16182    0101000020110F0000000000E057696B4100000080C5D8...\n",
      "16183    0101000020110F0000000000003A656B410000000047DC...\n",
      "16184    0101000020110F0000000000609A666B41000000003CE5...\n",
      "Name: geom, Length: 16185, dtype: object\n"
     ]
    }
   ],
   "source": [
    "# 데이터를 교육 및 테스트 세트로 분할\n",
    "X = merge_data[[\"mmsi\",\"ship_name\",\"ship_type\",\"cog\",\"sog\",\"일시\",\"풍향\",\"기온\",\"수온\",\"풍속\",\"유속\",\"기압\",\"습도\"]]  # 입력 값 (excluding \"geom\")\n",
    "y = merge_data[\"geom\"]  # 출력 값 (geom)\n",
    "\n",
    "#print(X)\n",
    "#print(y)"
   ]
  },
  {
   "cell_type": "code",
   "execution_count": 29,
   "metadata": {},
   "outputs": [],
   "source": [
    "#학습용, 검증용, 시험용으로 분리\n",
    "train_size = int(327 * 0.8)\n",
    "X_train, y_train = X[:train_size], y[:train_size]\n",
    "X_val, y_val = X[train_size:train_size+33], y[train_size:train_size+33]\n",
    "X_test, y_test = X[train_size+33:], y[train_size+33:]"
   ]
  },
  {
   "cell_type": "code",
   "execution_count": 35,
   "metadata": {},
   "outputs": [
    {
     "name": "stdout",
     "output_type": "stream",
     "text": [
      "Unexpected exception formatting exception. Falling back to standard exception\n"
     ]
    },
    {
     "name": "stderr",
     "output_type": "stream",
     "text": [
      "Traceback (most recent call last):\n",
      "  File \"C:\\Users\\SW\\AppData\\Roaming\\Python\\Python310\\site-packages\\IPython\\core\\interactiveshell.py\", line 3505, in run_code\n",
      "    exec(code_obj, self.user_global_ns, self.user_ns)\n",
      "  File \"C:\\Users\\SW\\AppData\\Local\\Temp\\ipykernel_268\\3470333947.py\", line 8, in <module>\n",
      "    X_train = make_Tensor(X_train.to_numpy())\n",
      "  File \"C:\\Users\\SW\\AppData\\Local\\Temp\\ipykernel_268\\3470333947.py\", line 6, in make_Tensor\n",
      "    return torch.from_numpy(array).float()\n",
      "TypeError: can't convert np.ndarray of type numpy.object_. The only supported types are: float64, float32, float16, complex64, complex128, int64, int32, int16, int8, uint8, and bool.\n",
      "\n",
      "During handling of the above exception, another exception occurred:\n",
      "\n",
      "Traceback (most recent call last):\n",
      "  File \"C:\\Users\\SW\\AppData\\Roaming\\Python\\Python310\\site-packages\\IPython\\core\\interactiveshell.py\", line 2102, in showtraceback\n",
      "    stb = self.InteractiveTB.structured_traceback(\n",
      "  File \"C:\\Users\\SW\\AppData\\Roaming\\Python\\Python310\\site-packages\\IPython\\core\\ultratb.py\", line 1310, in structured_traceback\n",
      "    return FormattedTB.structured_traceback(\n",
      "  File \"C:\\Users\\SW\\AppData\\Roaming\\Python\\Python310\\site-packages\\IPython\\core\\ultratb.py\", line 1199, in structured_traceback\n",
      "    return VerboseTB.structured_traceback(\n",
      "  File \"C:\\Users\\SW\\AppData\\Roaming\\Python\\Python310\\site-packages\\IPython\\core\\ultratb.py\", line 1052, in structured_traceback\n",
      "    formatted_exception = self.format_exception_as_a_whole(etype, evalue, etb, number_of_lines_of_context,\n",
      "  File \"C:\\Users\\SW\\AppData\\Roaming\\Python\\Python310\\site-packages\\IPython\\core\\ultratb.py\", line 953, in format_exception_as_a_whole\n",
      "    self.get_records(etb, number_of_lines_of_context, tb_offset) if etb else []\n",
      "  File \"C:\\Users\\SW\\AppData\\Roaming\\Python\\Python310\\site-packages\\IPython\\core\\ultratb.py\", line 1005, in get_records\n",
      "    style = stack_data.style_with_executing_node(style, self._tb_highlight)\n",
      "  File \"C:\\Users\\SW\\AppData\\Roaming\\Python\\Python310\\site-packages\\stack_data\\core.py\", line 455, in style_with_executing_node\n",
      "    class NewStyle(style):\n",
      "  File \"c:\\Users\\SW\\AppData\\Local\\Programs\\Python\\Python310\\lib\\site-packages\\pygments\\style.py\", line 91, in __new__\n",
      "    ndef[4] = colorformat(styledef[3:])\n",
      "  File \"c:\\Users\\SW\\AppData\\Local\\Programs\\Python\\Python310\\lib\\site-packages\\pygments\\style.py\", line 58, in colorformat\n",
      "    assert False, \"wrong color format %r\" % text\n",
      "AssertionError: wrong color format 'ansiyellow'\n"
     ]
    }
   ],
   "source": [
    "import torch\n",
    "#Tensor 형태로 변환\n",
    "import numpy as np\n",
    "\n",
    "def make_Tensor(array):\n",
    "    return torch.from_numpy(array).float()\n",
    "\n",
    "X_train = make_Tensor(X_train.to_numpy())\n",
    "y_train = make_Tensor(y_train.to_numpy())\n",
    "X_val = make_Tensor(X_val.to_numpy())\n",
    "y_val = make_Tensor(y_val.to_numpy())\n",
    "X_test = make_Tensor(X_test.to_numpy())\n",
    "y_test = make_Tensor(y_test.to_numpy())"
   ]
  },
  {
   "cell_type": "code",
   "execution_count": null,
   "metadata": {},
   "outputs": [],
   "source": [
    "class RoutePrediction(nn.Module):\n",
    "    def __init__(self, n_features, n_hidden, seq_len, n_layers):\n",
    "        super(RoutePrediction, self).__init__()\n",
    "        self.n_hidden = n_hidden\n",
    "        self.seq_len = seq_len\n",
    "        self.n_layers = n_layers\n",
    "        self.c1 = nn.Conv1d(in_channels=1, out_channels=1, kernel_size = 2, stride = 1) # 1D CNN 레이어 추가\n",
    "        self.lstm = nn.LSTM(\n",
    "            input_size=n_features,\n",
    "            hidden_size=n_hidden,\n",
    "            num_layers=n_layers\n",
    "        )\n",
    "        self.linear = nn.Linear(in_features=n_hidden, out_features=1)"
   ]
  },
  {
   "cell_type": "code",
   "execution_count": null,
   "metadata": {},
   "outputs": [],
   "source": []
  }
 ],
 "metadata": {
  "kernelspec": {
   "display_name": "Python 3",
   "language": "python",
   "name": "python3"
  },
  "language_info": {
   "codemirror_mode": {
    "name": "ipython",
    "version": 3
   },
   "file_extension": ".py",
   "mimetype": "text/x-python",
   "name": "python",
   "nbconvert_exporter": "python",
   "pygments_lexer": "ipython3",
   "version": "3.10.10"
  },
  "orig_nbformat": 4
 },
 "nbformat": 4,
 "nbformat_minor": 2
}
