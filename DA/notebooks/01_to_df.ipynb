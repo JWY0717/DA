{
 "cells": [
  {
   "cell_type": "code",
   "execution_count": 61,
   "metadata": {},
   "outputs": [
    {
     "name": "stdout",
     "output_type": "stream",
     "text": [
      "     지방청            표지                일시  풍향(˚)  유향(˚)  기온(℃)  풍속(m/s)   \n",
      "0    부산청  부산항유도등부표(랜비)  2023-05-09 23:50    313    NaN   16.5     4.11  \\\n",
      "1    부산청  부산항유도등부표(랜비)  2023-05-09 23:40    348    NaN   16.8     2.57   \n",
      "2    부산청  부산항유도등부표(랜비)  2023-05-09 23:30     27    NaN   17.0     2.57   \n",
      "3    부산청  부산항유도등부표(랜비)  2023-05-09 23:20     19    NaN   17.6     2.06   \n",
      "4    부산청  부산항유도등부표(랜비)  2023-05-09 23:10     52    NaN   18.1     2.06   \n",
      "..   ...           ...               ...    ...    ...    ...      ...   \n",
      "139  부산청  부산항유도등부표(랜비)  2023-05-09 00:40    335  191.0   14.3     1.03   \n",
      "140  부산청  부산항유도등부표(랜비)  2023-05-09 00:30    352  174.0   14.5     2.06   \n",
      "141  부산청  부산항유도등부표(랜비)  2023-05-09 00:20    356  190.0   13.7     2.57   \n",
      "142  부산청  부산항유도등부표(랜비)  2023-05-09 00:10    344  174.0   14.4     2.57   \n",
      "143  부산청  부산항유도등부표(랜비)  2023-05-09 00:00    348  158.0   14.5     2.57   \n",
      "\n",
      "     유속(kn)  기압(hPa)  습도(%)  \n",
      "0       0.0     1012     62  \n",
      "1       0.0     1012     58  \n",
      "2       0.0     1012     58  \n",
      "3       0.0     1012     52  \n",
      "4       0.0     1012     57  \n",
      "..      ...      ...    ...  \n",
      "139     1.2     1015     57  \n",
      "140     1.2     1015     51  \n",
      "141     1.1     1015     49  \n",
      "142     1.1     1015     54  \n",
      "143     0.8     1015     59  \n",
      "\n",
      "[144 rows x 10 columns]\n"
     ]
    }
   ],
   "source": [
    "import pandas as pd\n",
    "import numpy as np\n",
    "\n",
    "excel_file = 'D:/장우영/LOCALSEARCH\\DA\\DA\\data/05_09해양 기상청 데이터.xls'\n",
    "\n",
    "weather_data = pd.read_excel(excel_file)\n",
    "#   print(df.shape)\n",
    "\n",
    "# 데이터 확인 \n",
    "print(weather_data)"
   ]
  },
  {
   "cell_type": "code",
   "execution_count": 62,
   "metadata": {},
   "outputs": [
    {
     "name": "stdout",
     "output_type": "stream",
     "text": [
      "지방청         0\n",
      "표지          0\n",
      "일시          0\n",
      "풍향(˚)       0\n",
      "유향(˚)      25\n",
      "기온(℃)       0\n",
      "풍속(m/s)     0\n",
      "유속(kn)      0\n",
      "기압(hPa)     0\n",
      "습도(%)       0\n",
      "dtype: int64\n"
     ]
    }
   ],
   "source": [
    "# NaN 값 확인\n",
    "print(weather_data.isna().sum())\n"
   ]
  },
  {
   "cell_type": "code",
   "execution_count": 63,
   "metadata": {},
   "outputs": [
    {
     "name": "stdout",
     "output_type": "stream",
     "text": [
      "     지방청            표지                일시  풍향(˚)  유향(˚)  기온(℃)  풍속(m/s)   \n",
      "0    부산청  부산항유도등부표(랜비)  2023-05-09 23:50    313    NaN   16.5     4.11  \\\n",
      "1    부산청  부산항유도등부표(랜비)  2023-05-09 23:40    348    NaN   16.8     2.57   \n",
      "2    부산청  부산항유도등부표(랜비)  2023-05-09 23:30     27    NaN   17.0     2.57   \n",
      "3    부산청  부산항유도등부표(랜비)  2023-05-09 23:20     19    NaN   17.6     2.06   \n",
      "4    부산청  부산항유도등부표(랜비)  2023-05-09 23:10     52    NaN   18.1     2.06   \n",
      "..   ...           ...               ...    ...    ...    ...      ...   \n",
      "139  부산청  부산항유도등부표(랜비)  2023-05-09 00:40    335  191.0   14.3     1.03   \n",
      "140  부산청  부산항유도등부표(랜비)  2023-05-09 00:30    352  174.0   14.5     2.06   \n",
      "141  부산청  부산항유도등부표(랜비)  2023-05-09 00:20    356  190.0   13.7     2.57   \n",
      "142  부산청  부산항유도등부표(랜비)  2023-05-09 00:10    344  174.0   14.4     2.57   \n",
      "143  부산청  부산항유도등부표(랜비)  2023-05-09 00:00    348  158.0   14.5     2.57   \n",
      "\n",
      "     유속(kn)  기압(hPa)  습도(%)  \n",
      "0       0.0     1012     62  \n",
      "1       0.0     1012     58  \n",
      "2       0.0     1012     58  \n",
      "3       0.0     1012     52  \n",
      "4       0.0     1012     57  \n",
      "..      ...      ...    ...  \n",
      "139     1.2     1015     57  \n",
      "140     1.2     1015     51  \n",
      "141     1.1     1015     49  \n",
      "142     1.1     1015     54  \n",
      "143     0.8     1015     59  \n",
      "\n",
      "[144 rows x 10 columns]\n"
     ]
    }
   ],
   "source": [
    "print(weather_data)"
   ]
  },
  {
   "cell_type": "code",
   "execution_count": 64,
   "metadata": {},
   "outputs": [
    {
     "name": "stdout",
     "output_type": "stream",
     "text": [
      "0        NaN\n",
      "1        NaN\n",
      "2        NaN\n",
      "3        NaN\n",
      "4        NaN\n",
      "       ...  \n",
      "139    191.0\n",
      "140    174.0\n",
      "141    190.0\n",
      "142    174.0\n",
      "143    158.0\n",
      "Name: 유향(˚), Length: 144, dtype: float64\n"
     ]
    }
   ],
   "source": [
    "print(weather_data['유향(˚)'])"
   ]
  },
  {
   "cell_type": "code",
   "execution_count": 65,
   "metadata": {},
   "outputs": [],
   "source": [
    "# 유향의 NA값을 평균값으로 대체하는 경우\n",
    "mean_temp = weather_data['유향(˚)'].mean()\n",
    "weather_data['유향(˚)'] = weather_data['유향(˚)'].fillna(mean_temp)\n",
    "\n",
    "# 평균값 =   208.05042"
   ]
  },
  {
   "cell_type": "code",
   "execution_count": 66,
   "metadata": {},
   "outputs": [
    {
     "name": "stdout",
     "output_type": "stream",
     "text": [
      "0      208.05042\n",
      "1      208.05042\n",
      "2      208.05042\n",
      "3      208.05042\n",
      "4      208.05042\n",
      "         ...    \n",
      "139    191.00000\n",
      "140    174.00000\n",
      "141    190.00000\n",
      "142    174.00000\n",
      "143    158.00000\n",
      "Name: 유향(˚), Length: 144, dtype: float64\n"
     ]
    }
   ],
   "source": [
    "print(weather_data['유향(˚)'])"
   ]
  },
  {
   "cell_type": "code",
   "execution_count": 67,
   "metadata": {},
   "outputs": [
    {
     "name": "stdout",
     "output_type": "stream",
     "text": [
      "     지방청            표지                일시  풍향(˚)      유향(˚)  기온(℃)  풍속(m/s)   \n",
      "0    부산청  부산항유도등부표(랜비)  2023-05-09 23:50    313  208.05042   16.5     4.11  \\\n",
      "1    부산청  부산항유도등부표(랜비)  2023-05-09 23:40    348  208.05042   16.8     2.57   \n",
      "2    부산청  부산항유도등부표(랜비)  2023-05-09 23:30     27  208.05042   17.0     2.57   \n",
      "3    부산청  부산항유도등부표(랜비)  2023-05-09 23:20     19  208.05042   17.6     2.06   \n",
      "4    부산청  부산항유도등부표(랜비)  2023-05-09 23:10     52  208.05042   18.1     2.06   \n",
      "..   ...           ...               ...    ...        ...    ...      ...   \n",
      "139  부산청  부산항유도등부표(랜비)  2023-05-09 00:40    335  191.00000   14.3     1.03   \n",
      "140  부산청  부산항유도등부표(랜비)  2023-05-09 00:30    352  174.00000   14.5     2.06   \n",
      "141  부산청  부산항유도등부표(랜비)  2023-05-09 00:20    356  190.00000   13.7     2.57   \n",
      "142  부산청  부산항유도등부표(랜비)  2023-05-09 00:10    344  174.00000   14.4     2.57   \n",
      "143  부산청  부산항유도등부표(랜비)  2023-05-09 00:00    348  158.00000   14.5     2.57   \n",
      "\n",
      "     유속(kn)  기압(hPa)  습도(%)  \n",
      "0       0.0     1012     62  \n",
      "1       0.0     1012     58  \n",
      "2       0.0     1012     58  \n",
      "3       0.0     1012     52  \n",
      "4       0.0     1012     57  \n",
      "..      ...      ...    ...  \n",
      "139     1.2     1015     57  \n",
      "140     1.2     1015     51  \n",
      "141     1.1     1015     49  \n",
      "142     1.1     1015     54  \n",
      "143     0.8     1015     59  \n",
      "\n",
      "[144 rows x 10 columns]\n"
     ]
    }
   ],
   "source": [
    "print(weather_data)"
   ]
  },
  {
   "cell_type": "code",
   "execution_count": 136,
   "metadata": {},
   "outputs": [
    {
     "name": "stdout",
     "output_type": "stream",
     "text": [
      "  time:5/9/2023, 17:11:10 mmsi:413219020 shipType:70 shipName:ZHONG WAI YUN NINGBO posX:129.30875714057603 posY:34.97518208647576\n",
      "0  time:5/9/2023, 17:11:10 mmsi:440132230 shipTyp...                                                                             \n",
      "1  time:5/9/2023, 17:11:10 mmsi:440169510 shipTyp...                                                                             \n"
     ]
    }
   ],
   "source": [
    "import pandas as pd\n",
    "import csv\n",
    "\n",
    "ais_data = pd.read_csv('D:/장우영/LOCALSEARCH/DA/log.csv')\n",
    "\n",
    "print(ais_data.head(2))\n",
    "\n",
    "# time:5/9/2023, 17:11:10 mmsi:413219020 shipType:70 shipName:ZHONG WAI YUN NINGBO posX:129.30875714057603 posY:34.97518208647576\n",
    "\n"
   ]
  },
  {
   "cell_type": "code",
   "execution_count": 148,
   "metadata": {},
   "outputs": [
    {
     "name": "stdout",
     "output_type": "stream",
     "text": [
      "  time:5/9/2023, 17:11:10 mmsi:413219020 shipType:70 shipName:ZHONG WAI YUN NINGBO posX:129.30875714057603 posY:34.97518208647576\n",
      "0  time:5/9/2023, 17:11:10 mmsi:440132230 shipTyp...                                                                             \n",
      "1  time:5/9/2023, 17:11:10 mmsi:440169510 shipTyp...                                                                             \n",
      "Unexpected exception formatting exception. Falling back to standard exception\n"
     ]
    },
    {
     "name": "stderr",
     "output_type": "stream",
     "text": [
      "Traceback (most recent call last):\n",
      "  File \"C:\\Users\\SW\\AppData\\Roaming\\Python\\Python310\\site-packages\\IPython\\core\\interactiveshell.py\", line 3505, in run_code\n",
      "    exec(code_obj, self.user_global_ns, self.user_ns)\n",
      "  File \"C:\\Users\\SW\\AppData\\Local\\Temp\\ipykernel_7948\\1518402676.py\", line 10, in <module>\n",
      "    df['ais_data'].astype()\n",
      "TypeError: NDFrame.astype() missing 1 required positional argument: 'dtype'\n",
      "\n",
      "During handling of the above exception, another exception occurred:\n",
      "\n",
      "Traceback (most recent call last):\n",
      "  File \"C:\\Users\\SW\\AppData\\Roaming\\Python\\Python310\\site-packages\\IPython\\core\\interactiveshell.py\", line 2102, in showtraceback\n",
      "    stb = self.InteractiveTB.structured_traceback(\n",
      "  File \"C:\\Users\\SW\\AppData\\Roaming\\Python\\Python310\\site-packages\\IPython\\core\\ultratb.py\", line 1310, in structured_traceback\n",
      "    return FormattedTB.structured_traceback(\n",
      "  File \"C:\\Users\\SW\\AppData\\Roaming\\Python\\Python310\\site-packages\\IPython\\core\\ultratb.py\", line 1199, in structured_traceback\n",
      "    return VerboseTB.structured_traceback(\n",
      "  File \"C:\\Users\\SW\\AppData\\Roaming\\Python\\Python310\\site-packages\\IPython\\core\\ultratb.py\", line 1052, in structured_traceback\n",
      "    formatted_exception = self.format_exception_as_a_whole(etype, evalue, etb, number_of_lines_of_context,\n",
      "  File \"C:\\Users\\SW\\AppData\\Roaming\\Python\\Python310\\site-packages\\IPython\\core\\ultratb.py\", line 953, in format_exception_as_a_whole\n",
      "    self.get_records(etb, number_of_lines_of_context, tb_offset) if etb else []\n",
      "  File \"C:\\Users\\SW\\AppData\\Roaming\\Python\\Python310\\site-packages\\IPython\\core\\ultratb.py\", line 1005, in get_records\n",
      "    style = stack_data.style_with_executing_node(style, self._tb_highlight)\n",
      "  File \"C:\\Users\\SW\\AppData\\Roaming\\Python\\Python310\\site-packages\\stack_data\\core.py\", line 455, in style_with_executing_node\n",
      "    class NewStyle(style):\n",
      "  File \"c:\\Users\\SW\\AppData\\Local\\Programs\\Python\\Python310\\lib\\site-packages\\pygments\\style.py\", line 91, in __new__\n",
      "    ndef[4] = colorformat(styledef[3:])\n",
      "  File \"c:\\Users\\SW\\AppData\\Local\\Programs\\Python\\Python310\\lib\\site-packages\\pygments\\style.py\", line 58, in colorformat\n",
      "    assert False, \"wrong color format %r\" % text\n",
      "AssertionError: wrong color format 'ansiyellow'\n"
     ]
    }
   ],
   "source": [
    "import pandas as pd\n",
    "import csv\n",
    "\n",
    "ais_data = pd.read_csv('D:/장우영/LOCALSEARCH/DA/log.csv')\n",
    "\n",
    "print(ais_data.head(2))\n",
    "\n",
    "# 데이터 프레임 생성\n",
    "df = pd.DataFrame(ais_data, columns=['ais_data'])\n",
    "df['ais_data'].astype(str)\n",
    "\n",
    "# ais_data가 문자열이 아닌 경우 문자열로 변환\n",
    "if not isinstance(ais_data, str):\n",
    "    ais_data = str(ais_data)\n",
    "\n",
    "# str 메소드를 사용해 컬럼 추출\n",
    "df['time'] = df['ais_data'].str.split(' ').str[0].str.replace('time:', '')\n",
    "df['mmsi'] = df['ais_data'].str.split(' ').str[1].str.replace('mmsi:', '')\n",
    "df['shipType'] = df['ais_data'].str.split(' ').str[2].str.replace('shipType:', '')\n",
    "df['shipName'] = df['ais_data'].str.split(' ').str[3].str.replace('shipName:', '')\n",
    "df['posX'] = df['ais_data'].str.split(' ').str[4].str.replace('posX:', '')\n",
    "df['posY'] = df['ais_data'].str.split(' ').str[5].str.replace('posY:', '')\n",
    "\n",
    "# 결과 확인\n",
    "print(df)\n"
   ]
  },
  {
   "cell_type": "code",
   "execution_count": 114,
   "metadata": {},
   "outputs": [
    {
     "name": "stdout",
     "output_type": "stream",
     "text": [
      "Unexpected exception formatting exception. Falling back to standard exception\n"
     ]
    },
    {
     "name": "stderr",
     "output_type": "stream",
     "text": [
      "Traceback (most recent call last):\n",
      "  File \"c:\\Users\\SW\\AppData\\Local\\Programs\\Python\\Python310\\lib\\site-packages\\pandas\\core\\indexes\\base.py\", line 3652, in get_loc\n",
      "    return self._engine.get_loc(casted_key)\n",
      "  File \"pandas\\_libs\\index.pyx\", line 147, in pandas._libs.index.IndexEngine.get_loc\n",
      "  File \"pandas\\_libs\\index.pyx\", line 176, in pandas._libs.index.IndexEngine.get_loc\n",
      "  File \"pandas\\_libs\\hashtable_class_helper.pxi\", line 7080, in pandas._libs.hashtable.PyObjectHashTable.get_item\n",
      "  File \"pandas\\_libs\\hashtable_class_helper.pxi\", line 7088, in pandas._libs.hashtable.PyObjectHashTable.get_item\n",
      "KeyError: 'time'\n",
      "\n",
      "The above exception was the direct cause of the following exception:\n",
      "\n",
      "Traceback (most recent call last):\n",
      "  File \"C:\\Users\\SW\\AppData\\Roaming\\Python\\Python310\\site-packages\\IPython\\core\\interactiveshell.py\", line 3505, in run_code\n",
      "    exec(code_obj, self.user_global_ns, self.user_ns)\n",
      "  File \"C:\\Users\\SW\\AppData\\Local\\Temp\\ipykernel_7948\\4122303819.py\", line 1, in <module>\n",
      "    ais_data['time'] = pd.to_datetime(ais_data['time'])\n",
      "  File \"c:\\Users\\SW\\AppData\\Local\\Programs\\Python\\Python310\\lib\\site-packages\\pandas\\core\\frame.py\", line 3761, in __getitem__\n",
      "    indexer = self.columns.get_loc(key)\n",
      "  File \"c:\\Users\\SW\\AppData\\Local\\Programs\\Python\\Python310\\lib\\site-packages\\pandas\\core\\indexes\\base.py\", line 3654, in get_loc\n",
      "    raise KeyError(key) from err\n",
      "KeyError: 'time'\n",
      "\n",
      "During handling of the above exception, another exception occurred:\n",
      "\n",
      "Traceback (most recent call last):\n",
      "  File \"C:\\Users\\SW\\AppData\\Roaming\\Python\\Python310\\site-packages\\IPython\\core\\interactiveshell.py\", line 2102, in showtraceback\n",
      "    stb = self.InteractiveTB.structured_traceback(\n",
      "  File \"C:\\Users\\SW\\AppData\\Roaming\\Python\\Python310\\site-packages\\IPython\\core\\ultratb.py\", line 1310, in structured_traceback\n",
      "    return FormattedTB.structured_traceback(\n",
      "  File \"C:\\Users\\SW\\AppData\\Roaming\\Python\\Python310\\site-packages\\IPython\\core\\ultratb.py\", line 1199, in structured_traceback\n",
      "    return VerboseTB.structured_traceback(\n",
      "  File \"C:\\Users\\SW\\AppData\\Roaming\\Python\\Python310\\site-packages\\IPython\\core\\ultratb.py\", line 1052, in structured_traceback\n",
      "    formatted_exception = self.format_exception_as_a_whole(etype, evalue, etb, number_of_lines_of_context,\n",
      "  File \"C:\\Users\\SW\\AppData\\Roaming\\Python\\Python310\\site-packages\\IPython\\core\\ultratb.py\", line 953, in format_exception_as_a_whole\n",
      "    self.get_records(etb, number_of_lines_of_context, tb_offset) if etb else []\n",
      "  File \"C:\\Users\\SW\\AppData\\Roaming\\Python\\Python310\\site-packages\\IPython\\core\\ultratb.py\", line 1005, in get_records\n",
      "    style = stack_data.style_with_executing_node(style, self._tb_highlight)\n",
      "  File \"C:\\Users\\SW\\AppData\\Roaming\\Python\\Python310\\site-packages\\stack_data\\core.py\", line 455, in style_with_executing_node\n",
      "    class NewStyle(style):\n",
      "  File \"c:\\Users\\SW\\AppData\\Local\\Programs\\Python\\Python310\\lib\\site-packages\\pygments\\style.py\", line 91, in __new__\n",
      "    ndef[4] = colorformat(styledef[3:])\n",
      "  File \"c:\\Users\\SW\\AppData\\Local\\Programs\\Python\\Python310\\lib\\site-packages\\pygments\\style.py\", line 58, in colorformat\n",
      "    assert False, \"wrong color format %r\" % text\n",
      "AssertionError: wrong color format 'ansiyellow'\n"
     ]
    }
   ],
   "source": [
    "ais_data['time'] = pd.to_datetime(ais_data['time'])\n",
    "weather_data['일시'] = pd.to_datetime(weather_data['일시'])"
   ]
  }
 ],
 "metadata": {
  "kernelspec": {
   "display_name": "Python 3",
   "language": "python",
   "name": "python3"
  },
  "language_info": {
   "codemirror_mode": {
    "name": "ipython",
    "version": 3
   },
   "file_extension": ".py",
   "mimetype": "text/x-python",
   "name": "python",
   "nbconvert_exporter": "python",
   "pygments_lexer": "ipython3",
   "version": "3.10.10"
  },
  "orig_nbformat": 4
 },
 "nbformat": 4,
 "nbformat_minor": 2
}
