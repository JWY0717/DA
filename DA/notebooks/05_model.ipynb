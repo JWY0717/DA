{
 "cells": [
  {
   "cell_type": "code",
   "execution_count": 1,
   "metadata": {},
   "outputs": [],
   "source": [
    "import numpy as np\n",
    "import pandas as pd\n",
    "from sklearn.model_selection import train_test_split\n",
    "from sklearn.preprocessing import MinMaxScaler\n",
    "from tensorflow.keras.models import Sequential\n",
    "from tensorflow.keras.layers import LSTM, Dense\n",
    "from torch import nn, optim"
   ]
  },
  {
   "cell_type": "code",
   "execution_count": 22,
   "metadata": {},
   "outputs": [
    {
     "name": "stdout",
     "output_type": "stream",
     "text": [
      "경도: -149.18135579529024\n",
      "위도: -9.867493479281517\n"
     ]
    },
    {
     "name": "stderr",
     "output_type": "stream",
     "text": [
      "C:\\Users\\SW\\AppData\\Local\\Temp\\ipykernel_18184\\2092279059.py:16: FutureWarning: This function is deprecated. See: https://pyproj4.github.io/pyproj/stable/gotchas.html#upgrading-to-pyproj-2-from-pyproj-1\n",
      "  longitude, latitude = pyproj.transform(utm_proj, wgs84_proj, geom_decoded.x, geom_decoded.y)\n"
     ]
    }
   ],
   "source": [
    "from shapely import wkb\n",
    "from shapely.geometry import Point\n",
    "import pyproj\n",
    "\n",
    "geom = \"0101000020110F0000000000C00B776B41000000804EED4F41\"\n",
    "\n",
    "# WKB 디코딩\n",
    "geom_decoded = wkb.loads(bytes.fromhex(geom))\n",
    "\n",
    "# UTM 좌표계를 WGS84 경도와 위도로 변환\n",
    "utm_zone = 52  # UTM 존 번호\n",
    "utm_band = \"S\"  # UTM 밴드\n",
    "utm_proj = pyproj.Proj(proj=\"utm\", zone=utm_zone, south=True)  # UTM 좌표계 프로젝션 생성\n",
    "wgs84_proj = pyproj.Proj(proj=\"latlong\", datum=\"WGS84\")  # WGS84 경도와 위도 프로젝션 생성\n",
    "\n",
    "longitude, latitude = pyproj.transform(utm_proj, wgs84_proj, geom_decoded.x, geom_decoded.y)\n",
    "\n",
    "# 결과 출력\n",
    "print(\"경도:\", longitude)\n",
    "print(\"위도:\", latitude)"
   ]
  },
  {
   "cell_type": "code",
   "execution_count": 2,
   "metadata": {},
   "outputs": [
    {
     "name": "stdout",
     "output_type": "stream",
     "text": [
      "        mmsi ship_name  ship_type   \n",
      "0  440051540      D-01          0  \\\n",
      "\n",
      "                                                geom    cog  sog   \n",
      "0  0101000020110F00000000002039676B41000000002DCF...  329.2  5.7  \\\n",
      "\n",
      "        insert_time  지방청           표지                일시   풍향   유향    기온    수온   \n",
      "0  2023-05-11 10:10  부산청  신항유도등부표(랜비)  2023-05-11 10:10  196  246  16.4  17.0  \\\n",
      "\n",
      "     풍속   유속    기압  습도  \n",
      "0  9.77  0.3  1017  82  \n"
     ]
    }
   ],
   "source": [
    "data = r'D:\\장우영\\LOCALSEARCH\\DA\\DA\\data\\FAmerge_20230523_161834.csv'\n",
    "merge_data2 = pd.read_csv(data, encoding='ANSI')\n",
    "print(merge_data2.head(1))"
   ]
  },
  {
   "cell_type": "code",
   "execution_count": 12,
   "metadata": {},
   "outputs": [],
   "source": [
    "import csv\n",
    "import psycopg2\n",
    "from shapely import wkb\n",
    "from shapely.ops import transform\n",
    "from pyproj import Transformer"
   ]
  },
  {
   "cell_type": "code",
   "execution_count": 32,
   "metadata": {},
   "outputs": [
    {
     "name": "stdout",
     "output_type": "stream",
     "text": [
      "Longitude: -149.181356\n",
      "Latitude: -9.867493\n"
     ]
    },
    {
     "name": "stderr",
     "output_type": "stream",
     "text": [
      "C:\\Users\\SW\\AppData\\Local\\Temp\\ipykernel_18184\\3442288995.py:18: FutureWarning: This function is deprecated. See: https://pyproj4.github.io/pyproj/stable/gotchas.html#upgrading-to-pyproj-2-from-pyproj-1\n",
      "  longitude, latitude = pyproj.transform(utm_proj, wgs84_proj, geom_decoded.x, geom_decoded.y)\n"
     ]
    }
   ],
   "source": [
    "from shapely import wkb\n",
    "import pyproj\n",
    "\n",
    "geom = \"0101000020110F0000000000C00B776B41000000804EED4F41\"\n",
    "\n",
    "# WKB decoding\n",
    "geom_decoded = wkb.loads(bytes.fromhex(geom))\n",
    "\n",
    "# UTM zone and band for your data\n",
    "utm_zone = 52  # Replace with the correct UTM zone for your data\n",
    "utm_band = \"S\"  # Replace with the correct UTM band for your data\n",
    "\n",
    "# Define coordinate projection systems\n",
    "utm_proj = pyproj.Proj(proj=\"utm\", zone=utm_zone, south=(utm_band == \"S\"))\n",
    "wgs84_proj = pyproj.Proj(proj=\"latlong\", datum=\"WGS84\")\n",
    "\n",
    "# Convert UTM coordinates to WGS84 latitude and longitude\n",
    "longitude, latitude = pyproj.transform(utm_proj, wgs84_proj, geom_decoded.x, geom_decoded.y)\n",
    "\n",
    "# Round latitude and longitude to 6 decimal places\n",
    "longitude = round(longitude, 6)\n",
    "latitude = round(latitude, 6)\n",
    "\n",
    "# Print the results\n",
    "print(\"Longitude:\", longitude)\n",
    "print(\"Latitude:\", latitude)\n"
   ]
  }
 ],
 "metadata": {
  "kernelspec": {
   "display_name": "Python 3",
   "language": "python",
   "name": "python3"
  },
  "language_info": {
   "codemirror_mode": {
    "name": "ipython",
    "version": 3
   },
   "file_extension": ".py",
   "mimetype": "text/x-python",
   "name": "python",
   "nbconvert_exporter": "python",
   "pygments_lexer": "ipython3",
   "version": "3.10.10"
  },
  "orig_nbformat": 4
 },
 "nbformat": 4,
 "nbformat_minor": 2
}
