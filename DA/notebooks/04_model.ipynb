{
 "cells": [
  {
   "cell_type": "code",
   "execution_count": 30,
   "metadata": {},
   "outputs": [],
   "source": [
    "import numpy as np\n",
    "import pandas as pd\n",
    "from sklearn.model_selection import train_test_split\n",
    "from sklearn.preprocessing import MinMaxScaler\n",
    "from tensorflow.keras.models import Sequential\n",
    "from tensorflow.keras.layers import LSTM, Dense\n",
    "from torch import nn, optim"
   ]
  },
  {
   "cell_type": "code",
   "execution_count": 31,
   "metadata": {},
   "outputs": [
    {
     "name": "stdout",
     "output_type": "stream",
     "text": [
      "        mmsi ship_name  ship_type   \n",
      "0  440051540      D-01          0  \\\n",
      "\n",
      "                                                geom    cog  sog   \n",
      "0  0101000020110F00000000002039676B41000000002DCF...  329.2  5.7  \\\n",
      "\n",
      "        insert_time  지방청           표지                일시   풍향   유향    기온    수온   \n",
      "0  2023-05-11 10:10  부산청  신항유도등부표(랜비)  2023-05-11 10:10  196  246  16.4  17.0  \\\n",
      "\n",
      "     풍속   유속    기압  습도  \n",
      "0  9.77  0.3  1017  82  \n"
     ]
    }
   ],
   "source": [
    "#data = 'D:\\장우영\\LOCALSEARCH\\DA\\DA\\data\\FAmerge_20230518_124958.csv'\n",
    "data = r'D:\\장우영\\LOCALSEARCH\\DA\\DA\\data\\FAmerge_20230518_124958.csv'\n",
    "merge_data = pd.read_csv(data, encoding='ANSI')\n",
    "#print(weather_data)\n",
    "print(merge_data.head(1))"
   ]
  },
  {
   "cell_type": "code",
   "execution_count": 32,
   "metadata": {},
   "outputs": [
    {
     "name": "stdout",
     "output_type": "stream",
     "text": [
      "            mmsi      ship_name  ship_type    cog   sog       insert_time   \n",
      "0      440051540           D-01          0  329.2   5.7  2023-05-11 10:10  \\\n",
      "1      440300780            NaN          0  329.8   0.0  2023-05-11 10:10   \n",
      "2      440208550            NaN          0  139.3   0.0  2023-05-11 10:10   \n",
      "3      440275000  GBK EXPRESS 1         40  175.8   0.0  2023-05-11 10:10   \n",
      "4      440414850   NO1 GEO SUNG         80    0.0   0.0  2023-05-11 10:10   \n",
      "...          ...            ...        ...    ...   ...               ...   \n",
      "16180  538010219  SAWASDEE VEGA         70  225.2  16.0  2023-05-11 10:29   \n",
      "16181  440121850            NaN          0    0.0   0.0  2023-05-11 10:30   \n",
      "16182  440110850  PILOT ORYUKDO         50  322.3   1.7  2023-05-11 10:30   \n",
      "16183  440107840   NO.7 GEUMHWA         30    0.0   0.0  2023-05-11 10:30   \n",
      "16184  440134620       HYUNJUNG         80  231.3   0.7  2023-05-11 10:30   \n",
      "\n",
      "        풍향    기온    수온     풍속   유속    기압  습도  \n",
      "0      196  16.4  17.0   9.77  0.3  1017  82  \n",
      "1      196  16.4  17.0   9.77  0.3  1017  82  \n",
      "2      196  16.4  17.0   9.77  0.3  1017  82  \n",
      "3      196  16.4  17.0   9.77  0.3  1017  82  \n",
      "4      196  16.4  17.0   9.77  0.3  1017  82  \n",
      "...    ...   ...   ...    ...  ...   ...  ..  \n",
      "16180  209  16.2  16.7  11.30  0.2  1017  82  \n",
      "16181  210  16.3  16.7  10.30  0.2  1017  83  \n",
      "16182  210  16.3  16.7  10.30  0.2  1017  83  \n",
      "16183  210  16.3  16.7  10.30  0.2  1017  83  \n",
      "16184  210  16.3  16.7  10.30  0.2  1017  83  \n",
      "\n",
      "[16185 rows x 13 columns]\n"
     ]
    }
   ],
   "source": [
    "# 데이터를 교육 및 테스트 세트로 분할\n",
    "X = merge_data[[\"mmsi\",\"ship_name\",\"ship_type\",\"cog\",\"sog\",\"insert_time\",\"풍향\",\"기온\",\"수온\",\"풍속\",\"유속\",\"기압\",\"습도\"]]  # 입력 값 (excluding \"geom\")\n",
    "y = merge_data[\"geom\"]  # 출력 값 (geom)\n",
    "\n",
    "print(X)\n",
    "#print(y)"
   ]
  },
  {
   "cell_type": "code",
   "execution_count": 33,
   "metadata": {},
   "outputs": [],
   "source": [
    "encoded_ship_names = pd.get_dummies(merge_data[\"ship_name\"], prefix=\"ship_name\")\n",
    "X = pd.concat([X, encoded_ship_names], axis=1).drop(\"ship_name\", axis=1)"
   ]
  },
  {
   "cell_type": "code",
   "execution_count": 34,
   "metadata": {},
   "outputs": [],
   "source": [
    "from sklearn.model_selection import train_test_split\n",
    "\n",
    "X_train, X_test, y_train, y_test = train_test_split(X, y, test_size=\n",
    "\n",
    "0.2, random_state=42)\n",
    "\n",
    "#학습용, 검증용, 시험용으로 분리\n",
    "train_size = int(327 * 0.8)\n",
    "X_train, y_train = X[:train_size], y[:train_size]\n",
    "X_val, y_val = X[train_size:train_size+33], y[train_size:train_size+33]\n",
    "X_test, y_test = X[train_size+33:], y[train_size+33:]"
   ]
  },
  {
   "cell_type": "code",
   "execution_count": 28,
   "metadata": {},
   "outputs": [
    {
     "name": "stdout",
     "output_type": "stream",
     "text": [
      "Unexpected exception formatting exception. Falling back to standard exception\n"
     ]
    },
    {
     "name": "stderr",
     "output_type": "stream",
     "text": [
      "Traceback (most recent call last):\n",
      "  File \"C:\\Users\\SW\\AppData\\Roaming\\Python\\Python310\\site-packages\\IPython\\core\\interactiveshell.py\", line 3505, in run_code\n",
      "    exec(code_obj, self.user_global_ns, self.user_ns)\n",
      "  File \"C:\\Users\\SW\\AppData\\Local\\Temp\\ipykernel_16084\\1443939963.py\", line 5, in <module>\n",
      "    model.fit(X_train, y_train, epochs=100, batch_size=32)\n",
      "  File \"c:\\Users\\SW\\AppData\\Local\\Programs\\Python\\Python310\\lib\\site-packages\\keras\\utils\\traceback_utils.py\", line 70, in error_handler\n",
      "    raise e.with_traceback(filtered_tb) from None\n",
      "  File \"c:\\Users\\SW\\AppData\\Local\\Programs\\Python\\Python310\\lib\\site-packages\\tensorflow\\python\\framework\\constant_op.py\", line 103, in convert_to_eager_tensor\n",
      "    return ops.EagerTensor(value, ctx.device_name, dtype)\n",
      "ValueError: Failed to convert a NumPy array to a Tensor (Unsupported object type int).\n",
      "\n",
      "During handling of the above exception, another exception occurred:\n",
      "\n",
      "Traceback (most recent call last):\n",
      "  File \"C:\\Users\\SW\\AppData\\Roaming\\Python\\Python310\\site-packages\\IPython\\core\\interactiveshell.py\", line 2102, in showtraceback\n",
      "    stb = self.InteractiveTB.structured_traceback(\n",
      "  File \"C:\\Users\\SW\\AppData\\Roaming\\Python\\Python310\\site-packages\\IPython\\core\\ultratb.py\", line 1310, in structured_traceback\n",
      "    return FormattedTB.structured_traceback(\n",
      "  File \"C:\\Users\\SW\\AppData\\Roaming\\Python\\Python310\\site-packages\\IPython\\core\\ultratb.py\", line 1199, in structured_traceback\n",
      "    return VerboseTB.structured_traceback(\n",
      "  File \"C:\\Users\\SW\\AppData\\Roaming\\Python\\Python310\\site-packages\\IPython\\core\\ultratb.py\", line 1052, in structured_traceback\n",
      "    formatted_exception = self.format_exception_as_a_whole(etype, evalue, etb, number_of_lines_of_context,\n",
      "  File \"C:\\Users\\SW\\AppData\\Roaming\\Python\\Python310\\site-packages\\IPython\\core\\ultratb.py\", line 953, in format_exception_as_a_whole\n",
      "    self.get_records(etb, number_of_lines_of_context, tb_offset) if etb else []\n",
      "  File \"C:\\Users\\SW\\AppData\\Roaming\\Python\\Python310\\site-packages\\IPython\\core\\ultratb.py\", line 1005, in get_records\n",
      "    style = stack_data.style_with_executing_node(style, self._tb_highlight)\n",
      "  File \"C:\\Users\\SW\\AppData\\Roaming\\Python\\Python310\\site-packages\\stack_data\\core.py\", line 455, in style_with_executing_node\n",
      "    class NewStyle(style):\n",
      "  File \"c:\\Users\\SW\\AppData\\Local\\Programs\\Python\\Python310\\lib\\site-packages\\pygments\\style.py\", line 91, in __new__\n",
      "    ndef[4] = colorformat(styledef[3:])\n",
      "  File \"c:\\Users\\SW\\AppData\\Local\\Programs\\Python\\Python310\\lib\\site-packages\\pygments\\style.py\", line 58, in colorformat\n",
      "    assert False, \"wrong color format %r\" % text\n",
      "AssertionError: wrong color format 'ansiyellow'\n"
     ]
    }
   ],
   "source": [
    "model = Sequential()\n",
    "model.add(LSTM(128, input_shape=(X_train.shape[1], X_train.shape[2])))\n",
    "model.add(Dense(2)) \n",
    "model.compile(loss='mean_squared_error', optimizer='adam')\n",
    "model.fit(X_train, y_train, epochs=100, batch_size=32)"
   ]
  }
 ],
 "metadata": {
  "kernelspec": {
   "display_name": "Python 3",
   "language": "python",
   "name": "python3"
  },
  "language_info": {
   "codemirror_mode": {
    "name": "ipython",
    "version": 3
   },
   "file_extension": ".py",
   "mimetype": "text/x-python",
   "name": "python",
   "nbconvert_exporter": "python",
   "pygments_lexer": "ipython3",
   "version": "3.10.10"
  },
  "orig_nbformat": 4
 },
 "nbformat": 4,
 "nbformat_minor": 2
}
