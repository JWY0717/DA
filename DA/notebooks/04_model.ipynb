{
 "cells": [
  {
   "cell_type": "code",
   "execution_count": 1,
   "metadata": {},
   "outputs": [],
   "source": [
    "import numpy as np\n",
    "import pandas as pd\n",
    "from sklearn.model_selection import train_test_split\n",
    "from sklearn.preprocessing import MinMaxScaler\n",
    "from tensorflow.keras.models import Sequential\n",
    "from tensorflow.keras.layers import LSTM, Dense\n",
    "from torch import nn, optim"
   ]
  },
  {
   "cell_type": "code",
   "execution_count": 2,
   "metadata": {},
   "outputs": [
    {
     "name": "stdout",
     "output_type": "stream",
     "text": [
      "        mmsi ship_name  ship_type   \n",
      "0  440051540      D-01          0  \\\n",
      "\n",
      "                                                geom    cog  sog   \n",
      "0  0101000020110F00000000002039676B41000000002DCF...  329.2  5.7  \\\n",
      "\n",
      "        insert_time  지방청           표지                일시   풍향   유향    기온    수온   \n",
      "0  2023-05-11 10:10  부산청  신항유도등부표(랜비)  2023-05-11 10:10  196  246  16.4  17.0  \\\n",
      "\n",
      "     풍속   유속    기압  습도  \n",
      "0  9.77  0.3  1017  82  \n"
     ]
    }
   ],
   "source": [
    "data = r'D:\\장우영\\LOCALSEARCH\\DA\\DA\\data\\FAmerge_20230523_161834.csv'\n",
    "merge_data2 = pd.read_csv(data, encoding='ANSI')\n",
    "print(merge_data2.head(1))"
   ]
  },
  {
   "cell_type": "code",
   "execution_count": 3,
   "metadata": {},
   "outputs": [],
   "source": [
    "from pyproj import Transformer\n",
    "\n",
    "# pyproj Transformer 객체 생성 (3857 좌표계 -> 4326 좌표계)\n",
    "transformer = Transformer.from_crs(3857, 4326, always_xy=True)\n",
    "\n",
    "def convert_coordinates(coord):\n",
    "    # 빈 문자열인 경우 처리\n",
    "    if not coord:\n",
    "        return None\n",
    "\n",
    "    try:\n",
    "        # 좌표값을 파싱하여 x, y 좌표 추출\n",
    "        x = int(coord[8:24], 16) / 10000000.0\n",
    "        y = int(coord[24:40], 16) / 10000000.0\n",
    "\n",
    "        # 좌표 변환\n",
    "        lon, lat = transformer.transform(x, y)\n",
    "\n",
    "        return lon, lat\n",
    "    except ValueError:\n",
    "        # 유효하지 않은 형식의 좌표값인 경우 처리\n",
    "        return None\n",
    "\n",
    "# 좌표 변환 적용 및 데이터프레임 업데이트\n",
    "merge_data2['geom'] = merge_data2['geom'].apply(convert_coordinates)\n",
    "\n",
    "# 변환된 좌표값 출력 또는 원하는 작업 수행\n",
    "\n",
    "# 데이터프레임에서 '경도'와 '위도' 열로 분리하여 저장\n",
    "merge_data2['경도'] = merge_data2['geom'].apply(lambda x: x[0] if x is not None else None)\n",
    "merge_data2['위도'] = merge_data2['geom'].apply(lambda x: x[1] if x is not None else None)"
   ]
  },
  {
   "cell_type": "code",
   "execution_count": 4,
   "metadata": {},
   "outputs": [
    {
     "name": "stdout",
     "output_type": "stream",
     "text": [
      "0        (-72.66076918508794, 90.0)\n",
      "1        (-72.66076918508794, 90.0)\n",
      "2        (-72.66076918508794, 90.0)\n",
      "3        (-72.66076918508794, 90.0)\n",
      "4        (-72.66076918508794, 90.0)\n",
      "                    ...            \n",
      "46809    (-72.66076918508794, 90.0)\n",
      "46810    (-72.66076918508794, 90.0)\n",
      "46811    (-72.66076918508794, 90.0)\n",
      "46812    (-72.66076918508794, 90.0)\n",
      "46813    (-72.66076918508794, 90.0)\n",
      "Name: geom, Length: 46814, dtype: object\n"
     ]
    }
   ],
   "source": [
    "print(merge_data2[\"geom\"])"
   ]
  },
  {
   "cell_type": "code",
   "execution_count": 5,
   "metadata": {},
   "outputs": [],
   "source": [
    "# 'insert_time' 열을 datetime 개체로 변환한 다음 Unix 타임스탬프로 변환하여 숫자 표현으로 변환\n",
    "merge_data2['insert_time'] = pd.to_datetime(merge_data2['insert_time']).astype('int64') // 10**9"
   ]
  },
  {
   "cell_type": "code",
   "execution_count": 6,
   "metadata": {},
   "outputs": [
    {
     "name": "stdout",
     "output_type": "stream",
     "text": [
      "0        1683799800\n",
      "1        1683799800\n",
      "2        1683799800\n",
      "3        1683799800\n",
      "4        1683799800\n",
      "            ...    \n",
      "46809    1683803340\n",
      "46810    1683803340\n",
      "46811    1683803340\n",
      "46812    1683803340\n",
      "46813    1683803400\n",
      "Name: insert_time, Length: 46814, dtype: int64\n"
     ]
    }
   ],
   "source": [
    "print(merge_data2[\"insert_time\"])"
   ]
  },
  {
   "cell_type": "code",
   "execution_count": 7,
   "metadata": {},
   "outputs": [
    {
     "name": "stdout",
     "output_type": "stream",
     "text": [
      "            mmsi             ship_name  ship_type    cog  sog  insert_time   \n",
      "0      440051540                  D-01          0  329.2  5.7   1683799800  \\\n",
      "1      440300780                   NaN          0  329.8  0.0   1683799800   \n",
      "2      440208550                   NaN          0  139.3  0.0   1683799800   \n",
      "3      440275000         GBK EXPRESS 1         40  175.8  0.0   1683799800   \n",
      "4      440414850          NO1 GEO SUNG         80    0.0  0.0   1683799800   \n",
      "...          ...                   ...        ...    ...  ...          ...   \n",
      "46809  440233000  PANSTAR TSUSHIMA LIN         60  360.0  0.1   1683803340   \n",
      "46810  440108720             KYEUNG UN         52  176.4  0.3   1683803340   \n",
      "46811  440133280                   NaN          0  331.3  5.3   1683803340   \n",
      "46812  440132370             KOMAR NO2         80  183.2  7.6   1683803340   \n",
      "46813  440800234                   NaN          0  217.0  0.0   1683803400   \n",
      "\n",
      "        풍향    기온    수온     풍속   유속    기압  습도  \n",
      "0      196  16.4  17.0   9.77  0.3  1017  82  \n",
      "1      196  16.4  17.0   9.77  0.3  1017  82  \n",
      "2      196  16.4  17.0   9.77  0.3  1017  82  \n",
      "3      196  16.4  17.0   9.77  0.3  1017  82  \n",
      "4      196  16.4  17.0   9.77  0.3  1017  82  \n",
      "...    ...   ...   ...    ...  ...   ...  ..  \n",
      "46809  206  15.4  16.7  10.80  0.2  1018  81  \n",
      "46810  206  15.4  16.7  10.80  0.2  1018  81  \n",
      "46811  206  15.4  16.7  10.80  0.2  1018  81  \n",
      "46812  206  15.4  16.7  10.80  0.2  1018  81  \n",
      "46813  191  16.4  16.6   9.25  0.1  1017  80  \n",
      "\n",
      "[46814 rows x 13 columns]\n",
      "0        (-72.66076918508794, 90.0)\n",
      "1        (-72.66076918508794, 90.0)\n",
      "2        (-72.66076918508794, 90.0)\n",
      "3        (-72.66076918508794, 90.0)\n",
      "4        (-72.66076918508794, 90.0)\n",
      "                    ...            \n",
      "46809    (-72.66076918508794, 90.0)\n",
      "46810    (-72.66076918508794, 90.0)\n",
      "46811    (-72.66076918508794, 90.0)\n",
      "46812    (-72.66076918508794, 90.0)\n",
      "46813    (-72.66076918508794, 90.0)\n",
      "Name: geom, Length: 46814, dtype: object\n"
     ]
    }
   ],
   "source": [
    "# 데이터를 교육 및 테스트 세트로 분할\n",
    "X = merge_data2[[\"mmsi\",\"ship_name\",\"ship_type\",\"cog\",\"sog\",\"insert_time\",\"풍향\",\"기온\",\"수온\",\"풍속\",\"유속\",\"기압\",\"습도\"]]  # 입력 값 (excluding \"geom\") # 독립변수\n",
    "y = merge_data2[\"geom\"]  # 출력 값 (geom)       # 종속변수 \n",
    "\n",
    "print(X)\n",
    "print(y)"
   ]
  },
  {
   "cell_type": "code",
   "execution_count": 8,
   "metadata": {},
   "outputs": [],
   "source": [
    "from sklearn.model_selection import train_test_split\n",
    "\n",
    "X_train, X_test, y_train, y_test = train_test_split(X, y, test_size=\n",
    "\n",
    "0.2, random_state=42)\n",
    "\n",
    "#학습용, 검증용, 시험용으로 분리\n",
    "train_size = int(327 * 0.8)\n",
    "X_train, y_train = X[:train_size], y[:train_size]\n",
    "X_val, y_val = X[train_size:train_size+33], y[train_size:train_size+33]\n",
    "X_test, y_test = X[train_size+33:], y[train_size+33:]"
   ]
  },
  {
   "cell_type": "code",
   "execution_count": 11,
   "metadata": {},
   "outputs": [
    {
     "name": "stderr",
     "output_type": "stream",
     "text": [
      "c:\\Users\\SW\\AppData\\Local\\Programs\\Python\\Python310\\lib\\site-packages\\sklearn\\preprocessing\\_encoders.py:868: FutureWarning: `sparse` was renamed to `sparse_output` in version 1.2 and will be removed in 1.4. `sparse_output` is ignored unless you leave `sparse` to its default value.\n",
      "  warnings.warn(\n"
     ]
    },
    {
     "name": "stdout",
     "output_type": "stream",
     "text": [
      "Unexpected exception formatting exception. Falling back to standard exception\n"
     ]
    },
    {
     "name": "stderr",
     "output_type": "stream",
     "text": [
      "TypeError: float() argument must be a string or a real number, not 'tuple'\n",
      "\n",
      "The above exception was the direct cause of the following exception:\n",
      "\n",
      "Traceback (most recent call last):\n",
      "  File \"C:\\Users\\SW\\AppData\\Roaming\\Python\\Python310\\site-packages\\IPython\\core\\interactiveshell.py\", line 3505, in run_code\n",
      "    exec(code_obj, self.user_global_ns, self.user_ns)\n",
      "  File \"C:\\Users\\SW\\AppData\\Local\\Temp\\ipykernel_12888\\4132456713.py\", line 25, in <module>\n",
      "    X_train = X_train.astype(np.float32)\n",
      "ValueError: setting an array element with a sequence.\n",
      "\n",
      "During handling of the above exception, another exception occurred:\n",
      "\n",
      "Traceback (most recent call last):\n",
      "  File \"C:\\Users\\SW\\AppData\\Roaming\\Python\\Python310\\site-packages\\IPython\\core\\interactiveshell.py\", line 2102, in showtraceback\n",
      "    stb = self.InteractiveTB.structured_traceback(\n",
      "  File \"C:\\Users\\SW\\AppData\\Roaming\\Python\\Python310\\site-packages\\IPython\\core\\ultratb.py\", line 1310, in structured_traceback\n",
      "    return FormattedTB.structured_traceback(\n",
      "  File \"C:\\Users\\SW\\AppData\\Roaming\\Python\\Python310\\site-packages\\IPython\\core\\ultratb.py\", line 1199, in structured_traceback\n",
      "    return VerboseTB.structured_traceback(\n",
      "  File \"C:\\Users\\SW\\AppData\\Roaming\\Python\\Python310\\site-packages\\IPython\\core\\ultratb.py\", line 1052, in structured_traceback\n",
      "    formatted_exception = self.format_exception_as_a_whole(etype, evalue, etb, number_of_lines_of_context,\n",
      "  File \"C:\\Users\\SW\\AppData\\Roaming\\Python\\Python310\\site-packages\\IPython\\core\\ultratb.py\", line 953, in format_exception_as_a_whole\n",
      "    self.get_records(etb, number_of_lines_of_context, tb_offset) if etb else []\n",
      "  File \"C:\\Users\\SW\\AppData\\Roaming\\Python\\Python310\\site-packages\\IPython\\core\\ultratb.py\", line 1005, in get_records\n",
      "    style = stack_data.style_with_executing_node(style, self._tb_highlight)\n",
      "  File \"C:\\Users\\SW\\AppData\\Roaming\\Python\\Python310\\site-packages\\stack_data\\core.py\", line 455, in style_with_executing_node\n",
      "    class NewStyle(style):\n",
      "  File \"c:\\Users\\SW\\AppData\\Local\\Programs\\Python\\Python310\\lib\\site-packages\\pygments\\style.py\", line 91, in __new__\n",
      "    ndef[4] = colorformat(styledef[3:])\n",
      "  File \"c:\\Users\\SW\\AppData\\Local\\Programs\\Python\\Python310\\lib\\site-packages\\pygments\\style.py\", line 58, in colorformat\n",
      "    assert False, \"wrong color format %r\" % text\n",
      "AssertionError: wrong color format 'ansiyellow'\n"
     ]
    }
   ],
   "source": [
    "import numpy as np\n",
    "import pandas as pd\n",
    "import tensorflow as tf\n",
    "from tensorflow.keras.models import Sequential\n",
    "from tensorflow.keras.layers import LSTM, Dense\n",
    "from sklearn.preprocessing import OneHotEncoder\n",
    "\n",
    "#  \"ship_name\",\"ship_type\" 의 형식이 너무 번잡하여 변수를 원-핫 인코딩하여 데이터프레임에 추가\n",
    "categorical_cols = [\"ship_name\", \"ship_type\"]\n",
    "encoder = OneHotEncoder(sparse=False)\n",
    "X_train_encoded = pd.DataFrame(encoder.fit_transform(merge_data2[categorical_cols]))\n",
    "X_train = pd.concat([merge_data2.drop(categorical_cols, axis=1), X_train_encoded], axis=1)\n",
    "\n",
    "# 입력 기능( X_train)을 numpy 배열로 변환합니다.\n",
    "X_train = X_train.values\n",
    "\n",
    "#  y_train 튜플을 별도의 열 형식로 변환\n",
    "#y_train = np.array([coord if coord is not None else (0, 0) for coord in y_train], dtype=np.float32)\n",
    "#y_train = np.array([str(coord) if coord is not None else '0,0' for coord in y_train])  \n",
    "#y_train = np.array([f\"{coord[0]},{coord[1]}\" if coord is not None else '0,0' for coord in y_train])\n",
    "y_train = np.array([f\"{coord[0]},{coord[1]}\" if isinstance(coord, tuple) else '0,0' for coord in y_train])\n",
    "\n",
    "\n",
    "# Convert X_train to float32 data type  \n",
    "X_train = X_train.astype(np.float32)\n",
    "y_train = np.array(y_train, dtype=np.float32)\n",
    "#y_train = y_train.astype(np.float32)\n",
    "\n",
    "# Build the model\n",
    "model = Sequential()\n",
    "model.add(LSTM(128, input_shape=(X_train.shape[1], X_train.shape[2])))\n",
    "model.add(Dense(2))\n",
    "model.compile(loss='mean_squared_error', optimizer='adam')\n",
    "\n",
    "# Convert X_train and y_train to TensorFlow Tensors\n",
    "X_train = tf.convert_to_tensor(X_train)\n",
    "y_train = tf.convert_to_tensor(y_train)\n",
    "\n",
    "#  tf.convert_to_tensor(). 를 사용하여 100 epochs 및 32의 배치 크기에 대한 학습 데이터( X_train및 )를 사용하여 모델을 학습\n",
    "model.fit(X_train, y_train, epochs=100, batch_size=32)\n"
   ]
  },
  {
   "cell_type": "code",
   "execution_count": null,
   "metadata": {},
   "outputs": [],
   "source": [
    "# y_train데이터에 형식의 튜플이 포함된 경우 (-72.66076918508794, 90.0)작업에 좌표 쌍(경도, 위도) 예측이 포함되는 것 같습니다. \n",
    "# 이 경우 LSTM 모델 교육에 대한 접근 방식을 수정해야 합니다.\n",
    "\n",
    "# 예측 작업을 단일 출력 노드가 있는 회귀 문제로 취급하는 대신 각 출력이 좌표 쌍인 시퀀스 간 문제로 재구성해야 합니다.\n",
    "\n",
    "# 다음은 코드를 수정하기 위해 따를 수 있는 접근 방식입니다.\n",
    "\n",
    "# 대상 변수 수정( y_train): 튜플을 y_train경도와 위도를 나타내는 별도의 열로 변환합니다. y_train_longitude경도 값을 포함하고\n",
    "# y_train_latitude위도 값을 포함하는 두 개의 개별 배열을 만듭니다 .\n",
    "\n",
    "# 모델 아키텍처 수정: 마지막 Dense레이어에 단일 출력 노드를 두는 대신 두 개의 출력 노드가 있어야 합니다. \n",
    "# 하나는 경도용이고 다른 하나는 위도용입니다.\n",
    "\n",
    "# 손실 함수 조정: 이제 두 개의 개별 값을 예측하고 있으므로 이에 따라 손실 함수를 수정해야 합니다.\n",
    "# 각 출력에 대해 평균 제곱 오차(MSE)와 같이 경도와 위도에 대해 별도의 손실 함수를 사용할 수 있습니다."
   ]
  }
 ],
 "metadata": {
  "kernelspec": {
   "display_name": "Python 3",
   "language": "python",
   "name": "python3"
  },
  "language_info": {
   "codemirror_mode": {
    "name": "ipython",
    "version": 3
   },
   "file_extension": ".py",
   "mimetype": "text/x-python",
   "name": "python",
   "nbconvert_exporter": "python",
   "pygments_lexer": "ipython3",
   "version": "3.10.10"
  },
  "orig_nbformat": 4
 },
 "nbformat": 4,
 "nbformat_minor": 2
}
